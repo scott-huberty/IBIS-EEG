{
 "cells": [
  {
   "cell_type": "code",
   "execution_count": null,
   "metadata": {},
   "outputs": [],
   "source": [
    "from pathlib import Path\n",
    "\n",
    "import matplotlib.pyplot as plt\n",
    "import pandas as pd\n",
    "import seaborn as sns\n",
    "\n",
    "import xarray as xr\n"
   ]
  },
  {
   "cell_type": "code",
   "execution_count": null,
   "metadata": {},
   "outputs": [],
   "source": [
    "ds_fpath = Path(\".\").resolve().parent / \"derivatives\" / \"evoked\" / \"aep_evoked.nc\"\n",
    "\n",
    "ds = xr.open_dataset(ds_fpath)\n",
    "\n",
    "channels = [\"E7\", \"E106\", \"E13\", \"E6\", \"E112\", \"E31\", \"E80\", \"E37\", \"E55\", \"E87\"]\n",
    "df = ds.to_array().sel(channel=channels).mean(\"channel\").squeeze().to_pandas()"
   ]
  },
  {
   "cell_type": "code",
   "execution_count": null,
   "metadata": {},
   "outputs": [],
   "source": [
    "from scipy.stats import zscore\n",
    "signal_means = df.abs().mean(axis=1)\n",
    "threshold = zscore(signal_means) > 3\n",
    "indices_to_drop = threshold[threshold].index # indices are subject ids\n",
    "indices_to_drop"
   ]
  },
  {
   "cell_type": "code",
   "execution_count": null,
   "metadata": {},
   "outputs": [],
   "source": [
    "df_long = df.drop(indices_to_drop).reset_index().melt(id_vars=[\"subject\"], value_name=\"ERP\")\n",
    "df_long[\"ERP\"] = df_long[\"ERP\"] * 1e6 # Volts to Microvolts\n",
    "df_long[\"time\"] = df_long[\"time\"] *  1000  # seconds to milliseconds\n",
    "df_long_6 = df_long.loc[df_long[\"subject\"].str.contains(\"ses-06\")].copy()\n",
    "df_long_6[\"age\"] = 6\n",
    "df_long_12 = df_long.loc[df_long[\"subject\"].str.contains(\"ses-12\")].copy()\n",
    "df_long_12[\"age\"] = 12\n",
    "df_long_by_age = pd.concat([df_long_6, df_long_12], axis=0)\n",
    "\n",
    "sns.set(style=\"darkgrid\")\n",
    "fig, ax = plt.subplots(constrained_layout=True)\n",
    "\n",
    "colors_for_plot = sns.color_palette()[:2]\n",
    "sns.lineplot(\n",
    "    data=df_long_by_age,\n",
    "    x=\"time\",\n",
    "    y=\"ERP\",\n",
    "    hue=\"age\",\n",
    "    palette=colors_for_plot,\n",
    "    linewidth=0.5,\n",
    "    ax=ax,\n",
    "    )\n",
    "\n",
    "ax.legend()\n",
    "ax.set_title(\"Evokd Potentials to AEP, 6 and 12 Months\")\n",
    "ax.set_xlabel(\"Time (ms)\")\n",
    "ax.set_ylabel(\"ERP (uV)\")\n",
    "plt.show()\n"
   ]
  }
 ],
 "metadata": {},
 "nbformat": 4,
 "nbformat_minor": 2
}
